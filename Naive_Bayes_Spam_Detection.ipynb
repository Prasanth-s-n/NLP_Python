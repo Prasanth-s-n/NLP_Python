{
 "cells": [
  {
   "cell_type": "code",
   "execution_count": 1,
   "metadata": {},
   "outputs": [],
   "source": [
    "import csv\n",
    "\n",
    "import nltk\n",
    "from nltk.corpus import stopwords\n",
    "from nltk.stem import PorterStemmer\n",
    "from nltk.tokenize import TweetTokenizer\n",
    "\n",
    "import numpy as np\n",
    "import math as m\n",
    "import re\n",
    "import string"
   ]
  },
  {
   "cell_type": "code",
   "execution_count": 2,
   "metadata": {},
   "outputs": [],
   "source": [
    "def process_tweet(tweet):\n",
    "    stemmer = PorterStemmer()\n",
    "    stopwords_english = stopwords.words('english')\n",
    "    tweet = re.sub(r'\\$\\w*', '', tweet)# remove stock market tickers like $GE\n",
    "    tweet = re.sub(r'^RT[\\s]+', '', tweet)# remove old style retweet text \"RT\"\n",
    "    tweet = re.sub(r'https?:\\/\\/.*[\\r\\n]*', '', tweet)# remove hyperlinks\n",
    "    tweet = re.sub(r'#', '', tweet)# only removing the hash # sign from the word\n",
    "    tokenizer = TweetTokenizer(preserve_case=False, strip_handles=True,reduce_len=True)# tokenize tweets\n",
    "    tweet_tokens = tokenizer.tokenize(tweet) #array of words \n",
    "    tweets_clean = []\n",
    "    for word in tweet_tokens:\n",
    "        if (word not in stopwords_english and  # remove stopwords\n",
    "                word not in string.punctuation):  # remove punctuation\n",
    "            # tweets_clean.append(word)\n",
    "            stem_word = stemmer.stem(word)  # stemming word\n",
    "            tweets_clean.append(stem_word)\n",
    "\n",
    "    return tweets_clean"
   ]
  },
  {
   "cell_type": "code",
   "execution_count": 3,
   "metadata": {},
   "outputs": [],
   "source": [
    "def read_csv(csv_file,v1,v2):\n",
    "    labels=[]\n",
    "    data=[]\n",
    "    with open(csv_file, newline='') as csvfile:\n",
    "        reader = csv.DictReader(csvfile)\n",
    "        for row in reader:\n",
    "            labels.append(row[v1])\n",
    "            data.append(row[v2])\n",
    "    return data,labels"
   ]
  },
  {
   "cell_type": "code",
   "execution_count": 4,
   "metadata": {},
   "outputs": [],
   "source": [
    "def convert_labels(labels,positive_label,negative_label):\n",
    "    true_labels=[]\n",
    "    for i in labels:\n",
    "        if i ==positive_label:\n",
    "            true_labels.append(1)\n",
    "        elif i==negative_label:\n",
    "            true_labels.append(0)\n",
    "    return true_labels"
   ]
  },
  {
   "cell_type": "code",
   "execution_count": 5,
   "metadata": {},
   "outputs": [],
   "source": [
    "def count_msgs(msgs, ys):\n",
    "    result={}\n",
    "    for y, msg in zip(ys, msgs):\n",
    "        for word in process_tweet(msg):\n",
    "            pair = (word,y)\n",
    "            if pair in result:\n",
    "                result[pair] += 1\n",
    "            else:\n",
    "                result[pair] = 1\n",
    "    return result"
   ]
  },
  {
   "cell_type": "code",
   "execution_count": 6,
   "metadata": {},
   "outputs": [],
   "source": [
    "def split_dataset(data,ys):\n",
    "    train_set=[]\n",
    "    train_set_labels=[]\n",
    "    test_set=[]\n",
    "    test_set_labels=[]\n",
    "    positive_idx=[i for i in range(len(ys)) if ys[i]==1]\n",
    "    pos_80 = m.ceil(len(positive_idx)*0.8)\n",
    "    \n",
    "    for i in range(len(positive_idx)):\n",
    "        if i<pos_80:\n",
    "            train_set.append(data[positive_idx[i]])\n",
    "            train_set_labels.append(1)\n",
    "        else:\n",
    "            test_set.append(data[positive_idx[i]])\n",
    "            test_set_labels.append(1)\n",
    "    \n",
    "    negative_idx=[i for i in range(len(ys)) if ys[i]==0]\n",
    "    neg_80 = m.ceil(len(negative_idx)*0.8)\n",
    "    \n",
    "    for j in range(len(negative_idx)):\n",
    "        if j<neg_80:\n",
    "            train_set.append(data[negative_idx[j]])\n",
    "            train_set_labels.append(0)\n",
    "        else:\n",
    "            test_set.append(data[negative_idx[j]])\n",
    "            test_set_labels.append(0)\n",
    "    return train_set,train_set_labels,test_set,test_set_labels"
   ]
  },
  {
   "cell_type": "code",
   "execution_count": 7,
   "metadata": {},
   "outputs": [],
   "source": [
    "def train_naive_bayes(freqs, train_x, train_y):\n",
    "    \n",
    "    loglikelihood = {}\n",
    "    logprior = 0\n",
    "    vocab = set([pair[0] for pair in freqs.keys()])\n",
    "    V = len(vocab)\n",
    "    N_pos = N_neg = V_pos = V_neg = 0\n",
    "    for pair in freqs.keys():\n",
    "        if pair[1] > 0:\n",
    "            V_pos += 1 # count of unique spams by adding 1 each time\n",
    "            N_pos += freqs[pair] #count of spams\n",
    "        else:\n",
    "            V_neg += 1\n",
    "            N_neg += freqs[pair]\n",
    "    \n",
    "    D = len(train_y)\n",
    "    D_pos =0\n",
    "    D_neg = 0\n",
    "    for i in range(D):\n",
    "        if train_y[i]==1:\n",
    "            D_pos+=1\n",
    "        else:\n",
    "            D_neg+=1\n",
    "    \n",
    "    logprior = np.log(D_pos)-np.log(D_neg)\n",
    "    for word in vocab:\n",
    "        # get the positive and negative frequency of the word\n",
    "        pair1=(word,1)\n",
    "        pair=(word,0)\n",
    "        if pair not in freqs:\n",
    "            freqs[pair]=0\n",
    "        if pair1 not in freqs:\n",
    "            freqs[pair1]=0\n",
    "        \n",
    "        freq_pos = freqs[pair1]\n",
    "        freq_neg = freqs[pair]\n",
    "\n",
    "        # calculate the probability that each word is positive, and negative\n",
    "        p_w_pos = (freq_pos+1)/(N_pos+V)\n",
    "        p_w_neg = (freq_neg+1)/(N_neg+V)\n",
    "\n",
    "        # calculate the log likelihood of the word\n",
    "        loglikelihood[word] = np.log((p_w_pos/p_w_neg))\n",
    "\n",
    "    return logprior, loglikelihood"
   ]
  },
  {
   "cell_type": "code",
   "execution_count": 8,
   "metadata": {},
   "outputs": [],
   "source": [
    "def naive_bayes_predict(tweet, logprior, loglikelihood):\n",
    "    \n",
    "    word_l=process_tweet(tweet)\n",
    "    p = 0\n",
    "    p += logprior\n",
    "    for word in word_l:\n",
    "        if word in loglikelihood:\n",
    "            p += loglikelihood[word]\n",
    "    return p\n"
   ]
  },
  {
   "cell_type": "code",
   "execution_count": 9,
   "metadata": {},
   "outputs": [],
   "source": [
    "def test_naive_bayes(test_x, test_y, logprior, loglikelihood):\n",
    "    y_hats = []\n",
    "    for tweet in test_x:\n",
    "        if naive_bayes_predict(tweet, logprior, loglikelihood) > 0:\n",
    "            y_hat_i = 1\n",
    "        else:\n",
    "            y_hat_i = 0\n",
    "\n",
    "        y_hats.append(y_hat_i)\n",
    "\n",
    "    acc1 = []\n",
    "    for i in range(len(y_hats)):\n",
    "        if y_hats[i]==test_y[i]:\n",
    "            acc1.append(1)\n",
    "        else:\n",
    "            acc1.append(0)\n",
    "    accuracy = np.mean(acc1)\n",
    "\n",
    "    return accuracy\n"
   ]
  },
  {
   "cell_type": "code",
   "execution_count": 10,
   "metadata": {},
   "outputs": [],
   "source": [
    "def spam(p):\n",
    "    if p>0:\n",
    "        print(\"Spam\")\n",
    "        print(\"Spam Value: {}\".format(p))\n",
    "        print()\n",
    "    else:\n",
    "        print(\"Not Spam\")\n",
    "        print(\"Spam Value: {}\".format(p))\n",
    "        print()"
   ]
  },
  {
   "cell_type": "code",
   "execution_count": 11,
   "metadata": {},
   "outputs": [],
   "source": [
    "data,labels=read_csv('spam.csv','v1','v2')\n",
    "ys = convert_labels(labels,'spam','ham')\n",
    
   ]
  },
  {
   "cell_type": "code",
   "execution_count": 12,
   "metadata": {},
   "outputs": [],
   "source": [
    "train_x,train_y,test_x,test_y=split_dataset(data,ys)"
    "freq_dict=count_msgs(train_x,train_y)"
   ]
  },
  {
   "cell_type": "code",
   "execution_count": 13,
   "metadata": {},
   "outputs": [],
   "source": [
    "logprior,loglikelihood=train_naive_bayes(freq_dict,train_x,train_y)"
   ]
  },
  {
   "cell_type": "code",
   "execution_count": 14,
   "metadata": {},
   "outputs": [
    {
     "name": "stdout",
     "output_type": "stream",
     "text": [
      "Accuracy of the Model: 98.47396768402155%\n"
     ]
    }
   ],
   "source": [
    "acc=test_naive_bayes(test_x,test_y,logprior,loglikelihood)\n",
    "print(\"Accuracy of the Model: {}%\".format(acc*100))"
   ]
  },
  {
   "cell_type": "code",
   "execution_count": 20,
   "metadata": {},
   "outputs": [
    {
     "name": "stdout",
     "output_type": "stream",
     "text": [
      "Spam\n",
      "Spam Value: 0.2805693355700942\n",
      "\n",
      "\n",
      "Not Spam\n",
      "Spam Value: -5.814056166997551\n",
      "\n"
     ]
    }
   ],
   "source": [
    "msg1 = 'Free are avaiable'\n",
    "msg2 = 'I like this one'\n",
    "spam(naive_bayes_predict(msg1, logprior, loglikelihood))\n",
    "print()\n",
    "spam(naive_bayes_predict(msg2, logprior, loglikelihood))"
   ]
  },
  {
   "cell_type": "code",
   "execution_count": 25,
   "metadata": {},
   "outputs": [
    {
     "name": "stdout",
     "output_type": "stream",
     "text": [
      "Spam\n",
      "Spam Value: 0.2733266224301336\n",
      "\n"
     ]
    }
   ],
   "source": [
    "msg3='I like candies and btw free candies available'\n",
    "spam(naive_bayes_predict(msg3, logprior, loglikelihood))"
   ]
  },
  {
   "cell_type": "code",
   "execution_count": null,
   "metadata": {},
   "outputs": [],
   "source": []
  }
 ],
 "metadata": {
  "kernelspec": {
   "display_name": "Python 3",
   "language": "python",
   "name": "python3"
  },
  "language_info": {
   "codemirror_mode": {
    "name": "ipython",
    "version": 3
   },
   "file_extension": ".py",
   "mimetype": "text/x-python",
   "name": "python",
   "nbconvert_exporter": "python",
   "pygments_lexer": "ipython3",
   "version": "3.7.4"
  }
 },
 "nbformat": 4,
 "nbformat_minor": 2
}
