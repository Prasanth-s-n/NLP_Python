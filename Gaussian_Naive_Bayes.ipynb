{
 "cells": [
  {
   "cell_type": "code",
   "execution_count": 1,
   "metadata": {},
   "outputs": [],
   "source": [
    "import numpy as np\n",
    "from math import pi"
   ]
  },
  {
   "cell_type": "code",
   "execution_count": 2,
   "metadata": {},
   "outputs": [],
   "source": [
    "data1=[[3.393533211,2.331273381,0],\n",
    "       [3.110073483,1.781539638,0],\n",
    "       [1.343808831,3.368360954,0],\n",
    "       [3.582294042,4.67917911,0],\n",
    "       [2.280362439,2.866990263,0]]"
   ]
  },
  {
   "cell_type": "code",
   "execution_count": 3,
   "metadata": {},
   "outputs": [],
   "source": [
    "data2=[[7.423436942,4.696522875,1],\n",
    "       [5.745051997,3.533989803,1],\n",
    "       [9.172168622,2.511101045,1],\n",
    "       [7.792783481,3.424088941,1],\n",
    "       [7.939820817,0.791637231,1]]"
   ]
  },
  {
   "cell_type": "code",
   "execution_count": 4,
   "metadata": {},
   "outputs": [],
   "source": [
    "def mean(numbers):\n",
    "    return np.sum(numbers)/np.size(numbers)\n",
    "def stdev(numbers,mean):\n",
    "    variance=np.sum([(x-mean)**2 for x in numbers])/(np.size(numbers)-1)\n",
    "    return np.sqrt(variance)\n",
    "def probability(x,mean,stdev):\n",
    "    exponent=np.exp(-((x-mean)**2/(2*stdev**2)))\n",
    "    return (1/(np.sqrt(2*pi)*stdev))*exponent\n"
   ]
  },
  {
   "cell_type": "code",
   "execution_count": 5,
   "metadata": {},
   "outputs": [],
   "source": [
    "#For class label 0\n",
    "numbers1=[i[0] for i in data1]\n",
    "mean1=mean(numbers1)\n",
    "stdev1=stdev(numbers1,mean1)\n",
    "numbers2=[i[1] for i in data1]\n",
    "mean2=mean(numbers2)\n",
    "stdev2=stdev(numbers2,mean2)"
   ]
  },
  {
   "cell_type": "code",
   "execution_count": 6,
   "metadata": {},
   "outputs": [],
   "source": [
    "#For class label 1\n",
    "numbers11=[i[0] for i in data2]\n",
    "mean11=mean(numbers11)\n",
    "stdev11=stdev(numbers11,mean11)\n",
    "numbers22=[i[1] for i in data2]\n",
    "mean22=mean(numbers22)\n",
    "stdev22=stdev(numbers22,mean22)"
   ]
  },
  {
   "cell_type": "code",
   "execution_count": 7,
   "metadata": {},
   "outputs": [],
   "source": [
    "eg_data=[3.1100345822,4.678622723] #equivalent to data in data1 (class label 0)"
   ]
  },
  {
   "cell_type": "code",
   "execution_count": 8,
   "metadata": {},
   "outputs": [],
   "source": [
    "final_probability1=probability(eg_data[0],mean1,stdev1)*probability(eg_data[1],mean2,stdev2)\n",
    "final_probability2=probability(eg_data[0],mean11,stdev11)*probability(eg_data[1],mean22,stdev22)"
   ]
  },
  {
   "cell_type": "code",
   "execution_count": 9,
   "metadata": {},
   "outputs": [
    {
     "name": "stdout",
     "output_type": "stream",
     "text": [
      "0.0458\n",
      "0.0001\n"
     ]
    }
   ],
   "source": [
    "print(\"{:.4f}\".format(final_probability1))\n",
    "print(\"{:.4f}\".format(final_probability2))"
   ]
  }
 ],
 "metadata": {
  "kernelspec": {
   "display_name": "Python 3",
   "language": "python",
   "name": "python3"
  },
  "language_info": {
   "codemirror_mode": {
    "name": "ipython",
    "version": 3
   },
   "file_extension": ".py",
   "mimetype": "text/x-python",
   "name": "python",
   "nbconvert_exporter": "python",
   "pygments_lexer": "ipython3",
   "version": "3.8.2"
  }
 },
 "nbformat": 4,
 "nbformat_minor": 4
}
