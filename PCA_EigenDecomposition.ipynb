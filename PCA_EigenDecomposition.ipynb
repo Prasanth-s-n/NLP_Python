{
 "cells": [
  {
   "cell_type": "code",
   "execution_count": 1,
   "metadata": {},
   "outputs": [],
   "source": [
    "import numpy as np\n",
    "import matplotlib.pyplot as plt"
   ]
  },
  {
   "cell_type": "code",
   "execution_count": 2,
   "metadata": {},
   "outputs": [],
   "source": [
    "def pca(data,n_dimension):\n",
    "    \n",
    "    data_centered = data - np.mean(data.T,axis=1)\n",
    "    cov_matrix = np.cov(data.T)\n",
    "    eig_vals, eig_vecs = np.linalg.eigh(cov_matrix)\n",
    "    idx_sorted = np.argsort(eig_vals)\n",
    "    idx_sorted_high2low = idx_sorted[::-1]\n",
    "    eig_vals_sorted = eig_vals[idx_sorted_high2low]\n",
    "    eig_vecs_sorted = eig_vecs[:,idx_sorted_high2low]\n",
    "    required_eig_vec = eig_vecs_sorted[:,:n_dimension]\n",
    "    dim_reduced_data =  (np.dot(required_eig_vec.T,data_centered.T)).T\n",
    "    \n",
    "    return dim_reduced_data"
   ]
  },
  {
   "cell_type": "code",
   "execution_count": 3,
   "metadata": {},
   "outputs": [
    {
     "name": "stdout",
     "output_type": "stream",
     "text": [
      "Original Data:\n",
      " [[1.31626635 1.70044102 3.33705671 8.26816913]\n",
      " [8.32291481 2.10727174 3.62496681 7.76371256]\n",
      " [7.47977976 2.89768147 5.64388374 1.99146638]]\n",
      "\n",
      "Dimension Reduced Data\n",
      " [[ 4.88218861  1.25702914]\n",
      " [-0.61340654 -3.14688237]\n",
      " [-4.26878207  1.88985323]]\n",
      "\n",
      "Plotting the Data\n"
     ]
    },
    {
     "data": {
      "image/png": "[encoded data removed]",
      "text/plain": [
       "<Figure size 432x288 with 1 Axes>"
      ]
     },
     "metadata": {
      "needs_background": "light"
     },
     "output_type": "display_data"
    }
   ],
   "source": [
    "data = np.random.uniform(9,size=(3,4))\n",
    "print(\"Original Data:\\n\",data)\n",
    "reduced_data=pca(data,2)\n",
    "print(\"\\nDimension Reduced Data\\n\",reduced_data)\n",
    "print(\"\\nPlotting the Data\")\n",
    "plt.scatter(reduced_data[:,0],reduced_data[:,1])\n",
    "plt.show()"
   ]
  },
  {
   "cell_type": "code",
   "execution_count": null,
   "metadata": {},
   "outputs": [],
   "source": []
  }
 ],
 "metadata": {
  "kernelspec": {
   "display_name": "Python 3",
   "language": "python",
   "name": "python3"
  },
  "language_info": {
   "codemirror_mode": {
    "name": "ipython",
    "version": 3
   },
   "file_extension": ".py",
   "mimetype": "text/x-python",
   "name": "python",
   "nbconvert_exporter": "python",
   "pygments_lexer": "ipython3",
   "version": "3.8.2"
  }
 },
 "nbformat": 4,
 "nbformat_minor": 4
}
